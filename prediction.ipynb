{
 "cells": [
  {
   "cell_type": "code",
   "execution_count": 67,
   "id": "a6a79276-3b43-4cdb-8d37-42de2dd19fbb",
   "metadata": {},
   "outputs": [],
   "source": [
    "import pickle\n",
    "import pandas as pd\n",
    "import numpy as np\n",
    "\n",
    "from collections import Counter"
   ]
  },
  {
   "cell_type": "markdown",
   "id": "ef933c7c-306e-4188-9c7f-271cd3dc44ba",
   "metadata": {},
   "source": [
    "## Loading Models"
   ]
  },
  {
   "cell_type": "code",
   "execution_count": 68,
   "id": "36b461cf-33ed-4294-a266-b2c26116e5df",
   "metadata": {},
   "outputs": [],
   "source": [
    "# Loading pipeline1\n",
    "with open('knn_pipeline.pkl', 'rb') as f:\n",
    "    knn_pipeline = pickle.load(f)\n",
    "    \n",
    "# Loading pipeline2\n",
    "with open('svc_pipeline.pkl', 'rb') as f:\n",
    "    svc_pipeline = pickle.load(f)\n",
    "\n",
    "# Loading pipeline3\n",
    "with open('dt_pipeline.pkl', 'rb') as f:\n",
    "    dt_pipeline = pickle.load(f)\n"
   ]
  },
  {
   "cell_type": "code",
   "execution_count": 69,
   "id": "5c8f1b23-4ba8-48d2-8a3a-c23d2a041489",
   "metadata": {},
   "outputs": [],
   "source": [
    "# Sample Input\n",
    "new_data = pd.DataFrame({\n",
    "    'age': [46,46],\n",
    "    'sex': [1,1], #changed\n",
    "    'cp': [2,2],\n",
    "    'trestbps':[150,150],\n",
    "    'chol':[231,232],\n",
    "    'fbs':[0,1],\n",
    "    'restecg':[1,1],\n",
    "    'thalach':[147,150],\n",
    "    'exang':[0,0],\n",
    "    'oldpeak':[3.6,3.4],\n",
    "    'slope':[1,1],\n",
    "    'ca':[0,1],\n",
    "    'thal':[2,1]\n",
    "})"
   ]
  },
  {
   "cell_type": "code",
   "execution_count": 70,
   "id": "73905b52-bd15-4871-84e1-b48cd2b268ca",
   "metadata": {},
   "outputs": [],
   "source": [
    "# predictions with each model\n",
    "knn_prediction = knn_pipeline.predict(new_data)\n",
    "decision_tree_prediction = dt_pipeline.predict(new_data)\n",
    "svc_prediction = svc_pipeline.predict(new_data)"
   ]
  },
  {
   "cell_type": "code",
   "execution_count": 71,
   "id": "93672175-b3d3-4353-abd3-bdb95c5b1ab4",
   "metadata": {},
   "outputs": [],
   "source": [
    "# Majority Voting\n",
    "final_predictions = []\n",
    "for i in range(len(new_data)):\n",
    "    row_predictions = [\n",
    "        int(knn_prediction[i]),\n",
    "        int(decision_tree_prediction[i]),\n",
    "        int(svc_prediction[i])\n",
    "    ]\n",
    "    majority_vote = Counter(row_predictions).most_common(1)[0][0]\n",
    "    final_predictions.append(majority_vote)"
   ]
  },
  {
   "cell_type": "code",
   "execution_count": 72,
   "id": "4e152899-9361-4791-8f70-d0893a1cb8c1",
   "metadata": {},
   "outputs": [
    {
     "data": {
      "text/plain": [
       "[0, 0]"
      ]
     },
     "execution_count": 72,
     "metadata": {},
     "output_type": "execute_result"
    }
   ],
   "source": [
    "final_predictions"
   ]
  },
  {
   "cell_type": "code",
   "execution_count": 63,
   "id": "e89dc1e8-d20b-46da-84c0-37d5f8a05425",
   "metadata": {},
   "outputs": [
    {
     "name": "stdout",
     "output_type": "stream",
     "text": [
      "Heart Disease - Negative Result\n"
     ]
    }
   ],
   "source": [
    "# Final result\n",
    "if(final_prediction==0):\n",
    "    print(\"Heart Disease - Negative Result\")\n",
    "else:\n",
    "    print(\"Heart Disease - Positive Result \")"
   ]
  },
  {
   "cell_type": "code",
   "execution_count": 81,
   "id": "93e75e7a-4733-43a2-b95f-65600a37aa0a",
   "metadata": {},
   "outputs": [
    {
     "name": "stdout",
     "output_type": "stream",
     "text": [
      "0 -> Heart Disease - Negative Result\n",
      "1 -> Heart Disease - Negative Result\n"
     ]
    }
   ],
   "source": [
    "for i in range(len(final_predictions)):\n",
    "    if(final_predictions[i]==0):\n",
    "        print(i,\"-> Heart Disease - Negative Result\")\n",
    "    else:\n",
    "        print(i,\"-> Heart Disease - Positive Result \")"
   ]
  },
  {
   "cell_type": "code",
   "execution_count": null,
   "id": "cc44b5b5-a625-43fa-b7fb-8f3249015cd9",
   "metadata": {},
   "outputs": [],
   "source": []
  }
 ],
 "metadata": {
  "kernelspec": {
   "display_name": "Python 3 (ipykernel)",
   "language": "python",
   "name": "python3"
  },
  "language_info": {
   "codemirror_mode": {
    "name": "ipython",
    "version": 3
   },
   "file_extension": ".py",
   "mimetype": "text/x-python",
   "name": "python",
   "nbconvert_exporter": "python",
   "pygments_lexer": "ipython3",
   "version": "3.10.12"
  }
 },
 "nbformat": 4,
 "nbformat_minor": 5
}
